{
  "nbformat": 4,
  "nbformat_minor": 0,
  "metadata": {
    "colab": {
      "name": "Semgradecalcu.ipynb",
      "provenance": [],
      "collapsed_sections": [],
      "authorship_tag": "ABX9TyNYGivfsKHJv+3MtqT+NSwQ",
      "include_colab_link": true
    },
    "kernelspec": {
      "name": "python3",
      "display_name": "Python 3"
    }
  },
  "cells": [
    {
      "cell_type": "markdown",
      "metadata": {
        "id": "view-in-github",
        "colab_type": "text"
      },
      "source": [
        "<a href=\"https://colab.research.google.com/github/janairne/github-slideshow/blob/my-slide/Semgradecalcu.ipynb\" target=\"_parent\"><img src=\"https://colab.research.google.com/assets/colab-badge.svg\" alt=\"Open In Colab\"/></a>"
      ]
    },
    {
      "cell_type": "code",
      "metadata": {
        "id": "xjLDo3VtYgsg"
      },
      "source": [
        "name = input('Student Name: ')\r\n",
        "course = input('Course: ')\r\n",
        "prelim = float(input(\"prelim:\"))\r\n",
        "midterm = float(input(\"midterm Grade: \"))\r\n",
        "finals = float(input(\"finals Grade: \"))\r\n",
        "semGrade=0.00\r\n",
        "semGrade = (prelim*.3) + (midterm*.3) + (finals*.4)\r\n",
        "if (semGrade > 70.00):\r\n",
        "  print('Sem Grade is: %.2f'%semGrade+\"\\U0001F600\")\r\n",
        "elif (semGrade == 70.00):\r\n",
        "  print('Sem Grade is: %.2f'%semGrade+\"\\U0001F923\")\r\n",
        "else:\r\n",
        "  print('Sem Grade is: %.2f'%semGrade+\"\\U0001F619\")"
      ],
      "execution_count": null,
      "outputs": []
    }
  ]
}