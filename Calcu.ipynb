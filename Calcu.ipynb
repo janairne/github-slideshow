{
  "nbformat": 4,
  "nbformat_minor": 0,
  "metadata": {
    "colab": {
      "name": "Calcu.ipynb",
      "provenance": [],
      "collapsed_sections": []
    },
    "kernelspec": {
      "name": "python3",
      "display_name": "Python 3"
    }
  },
  "cells": [
    {
      "cell_type": "markdown",
      "metadata": {
        "id": "CIFjAmTe6Kye"
      },
      "source": [
        "Student Information"
      ]
    },
    {
      "cell_type": "code",
      "metadata": {
        "id": "SFkf1zTi6N-7"
      },
      "source": [
        "name = input('Student Name: ')\r\n",
        "course = input('Course: ')\r\n",
        "prelim = float(input(\"prelim:\"))\r\n",
        "midterm = float(input(\"midterm Grade: \"))\r\n",
        "finals = float(input(\"finals Grade: \"))\r\n",
        "semGrade=0.00\r\n",
        "semGrade = (prelim*.3) + (midterm*.3) + (finals*.4)\r\n",
        "if (semGrade > 70.00):\r\n",
        "  print('Sem Grade is: %.2f'%semGrade+\"\\U0001F600\")\r\n",
        "elif (semGrade == 70.00):\r\n",
        "  print('Sem Grade is: %.2f'%semGrade+\"\\U0001F923\")\r\n",
        "else:\r\n",
        "  print('Sem Grade is: %.2f'%semGrade+\"\\U0001F619\")"
      ],
      "execution_count": null,
      "outputs": []
    },
    {
      "cell_type": "markdown",
      "metadata": {
        "id": "J2FkXeCf6VeT"
      },
      "source": [
        "##Grades"
      ]
    },
    {
      "cell_type": "code",
      "metadata": {
        "id": "eFNFjANd6XpD"
      },
      "source": [
        "print(\"\\U0001F619\")"
      ],
      "execution_count": null,
      "outputs": []
    }
  ]
}